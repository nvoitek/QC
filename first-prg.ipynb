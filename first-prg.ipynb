{
 "metadata": {
  "language_info": {
   "codemirror_mode": {
    "name": "ipython",
    "version": 3
   },
   "file_extension": ".py",
   "mimetype": "text/x-python",
   "name": "python",
   "nbconvert_exporter": "python",
   "pygments_lexer": "ipython3",
   "version": "3.9.2-final"
  },
  "orig_nbformat": 2,
  "kernelspec": {
   "name": "python3",
   "display_name": "Python 3.9.2 64-bit",
   "metadata": {
    "interpreter": {
     "hash": "9612cdd953a29667c1eef1b3a3f34d7af2af90c1f265894d4814148012d1f455"
    }
   }
  }
 },
 "nbformat": 4,
 "nbformat_minor": 2,
 "cells": [
  {
   "cell_type": "code",
   "execution_count": 12,
   "metadata": {},
   "outputs": [
    {
     "output_type": "stream",
     "name": "stdout",
     "text": [
      "[0 0 1 0 0 1 1 0 0 0]\n[0 0 1 0 0 1 1 0 0 0]\n"
     ]
    }
   ],
   "source": [
    "from pyquil import get_qc, Program\n",
    "from pyquil.gates import CNOT, H\n",
    "\n",
    "prog = Program(H(0), CNOT(0, 1))\n",
    "\n",
    "qvm = get_qc('9q-square-qvm')\n",
    "results = qvm.run_and_measure(prog, trials=10)\n",
    "\n",
    "print(results[0])\n",
    "print(results[1])"
   ]
  },
  {
   "cell_type": "code",
   "execution_count": null,
   "metadata": {},
   "outputs": [],
   "source": []
  }
 ]
}